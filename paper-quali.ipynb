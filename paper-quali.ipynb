{
 "cells": [
  {
   "cell_type": "code",
   "execution_count": null,
   "id": "0ecc4e4a-e932-43f9-8d66-4bd2bfb72aa1",
   "metadata": {},
   "outputs": [],
   "source": [
    "import argparse, os, os.path as osp, json\n",
    "import numpy as np\n",
    "from PIL import Image\n",
    "import torch\n",
    "\n",
    "from data.aug import val_trfm\n",
    "from data import ts_spinelspelvic, pengwin, ctpelvic1k\n",
    "from util import color_seg, compact_image_grid, std_to_rgb\n",
    "from modules import build_model\n",
    "from evaluation import pred_volume"
   ]
  },
  {
   "cell_type": "code",
   "execution_count": null,
   "id": "1c8e7b69-d38b-4476-9eb9-229c2dd5fed5",
   "metadata": {},
   "outputs": [],
   "source": [
    "device = \"cuda:1\""
   ]
  },
  {
   "cell_type": "code",
   "execution_count": null,
   "id": "4458eaeb-6647-407e-a556-51c01ee04995",
   "metadata": {},
   "outputs": [],
   "source": [
    "bin_fn_bone = functools.partial(binarise_totalseg_label, coi=TOTALSEG_CLS_SET[\"bone\"])\n",
    "bin_fn_spine = functools.partial(binarise_totalseg_label, coi=TOTALSEG_CLS_SET[\"spine\"])"
   ]
  },
  {
   "cell_type": "code",
   "execution_count": null,
   "id": "a9bcc028-730a-42c8-afa8-8e7e09776fec",
   "metadata": {},
   "outputs": [],
   "source": [
    "@torch.no_grad()\n",
    "def draw_vol(model, loader, save_dir=\"paper_fig/quali/stage2\"):\n",
    "    os.makedirs(save_dir, exist_ok=True)\n",
    "    _, pred_vol = pred_volume(model, loader) # axis order: (LR, AP, IS)\n",
    "    for i in pred_vol.shape[2]:\n",
    "        color_seg(pred_vol[:, :, i]).save(osp.join(save_dir, f\"{i}.png\"))\n",
    "        print(i, end='\\r')"
   ]
  },
  {
   "cell_type": "markdown",
   "id": "b6cc73d6-a6de-4d48-b8a7-19c3c2b3cb56",
   "metadata": {},
   "source": [
    "# totalseg-spineLSpelvic-small"
   ]
  },
  {
   "cell_type": "code",
   "execution_count": null,
   "id": "69ac7e07-ff79-4ea6-b914-43d2845e0cea",
   "metadata": {},
   "outputs": [],
   "source": [
    "volume_id = \"s1423\"\n",
    "data_root = \"~/sd10t/totalsegmentator\"\n",
    "log_path = \"log/totalseg-spineLSpelvic-small\""
   ]
  },
  {
   "cell_type": "code",
   "execution_count": null,
   "id": "f040a6bc-38ef-4861-89ef-98e0d6f92e03",
   "metadata": {},
   "outputs": [],
   "source": [
    "with open(os.path.join(log_path, \"config.json\"), 'r') as f:\n",
    "    args = argparse.Namespace(**json.load(f))"
   ]
  },
  {
   "cell_type": "code",
   "execution_count": null,
   "id": "57b90717-21f1-4e1b-b7d0-34531187e7f7",
   "metadata": {},
   "outputs": [],
   "source": [
    "val_trans = val_trfm(args)"
   ]
  },
  {
   "cell_type": "code",
   "execution_count": null,
   "id": "399727c8-9c58-4795-898f-c433c4f6ed4b",
   "metadata": {},
   "outputs": [],
   "source": [
    "ds = ts_spinelspelvic.VolumeDataset(volume_id, \"full\", val_trans,\n",
    "    args.window, args.window_level, args.window_width, data_root)\n",
    "loader = torch.utils.data.DataLoader(ds, batch_size=32, shuffle=False)"
   ]
  },
  {
   "cell_type": "code",
   "execution_count": null,
   "id": "73b1a132-980e-469f-8393-2319063e4e35",
   "metadata": {
    "scrolled": true
   },
   "outputs": [],
   "source": [
    "model = build_model(args).cuda()\n",
    "model.load_state_dict(torch.load(os.path.join(log_path, \"2nd-re_stu/best_val.pth\"))[\"model\"])\n",
    "model.eval()"
   ]
  },
  {
   "cell_type": "code",
   "execution_count": null,
   "id": "8e13dd85-865b-4c9f-a218-3e116ba5f18b",
   "metadata": {},
   "outputs": [],
   "source": [
    "draw_vol(model, loader, \"paper_fig/quali/totalseg-spineLSpelvic-small/stage2/{}\".format(volume_id))"
   ]
  },
  {
   "cell_type": "markdown",
   "id": "fb1bd97d-98aa-4cb7-a32f-a699bd012533",
   "metadata": {},
   "source": [
    "# pengwin"
   ]
  },
  {
   "cell_type": "code",
   "execution_count": null,
   "id": "31b52aaa-835b-4427-b0b9-bacbf83242b2",
   "metadata": {},
   "outputs": [],
   "source": [
    "volume_id = \"085\"\n",
    "data_root = \"~/sd10t/pengwin\"\n",
    "log_path = \"log/pengwin\""
   ]
  },
  {
   "cell_type": "code",
   "execution_count": null,
   "id": "8c168c09-3b71-40c9-9d2d-e196174ed38d",
   "metadata": {},
   "outputs": [],
   "source": [
    "with open(os.path.join(log_path, \"config.json\"), 'r') as f:\n",
    "    args = argparse.Namespace(**json.load(f))"
   ]
  },
  {
   "cell_type": "code",
   "execution_count": null,
   "id": "df4fdf6a-5094-414d-a9dc-67903d7a300b",
   "metadata": {},
   "outputs": [],
   "source": [
    "val_trans = val_trfm(args)"
   ]
  },
  {
   "cell_type": "code",
   "execution_count": null,
   "id": "a5b9bf12-1c41-4569-9609-bdffe6344895",
   "metadata": {},
   "outputs": [],
   "source": [
    "ds = pengwin.VolumeDataset(volume_id, \"full\", val_trans,\n",
    "    args.window, args.window_level, args.window_width, data_root)\n",
    "loader = torch.utils.data.DataLoader(ds, batch_size=32, shuffle=False)"
   ]
  },
  {
   "cell_type": "code",
   "execution_count": null,
   "id": "fbf5eec7-4c11-4818-a058-ef924ecb0619",
   "metadata": {},
   "outputs": [],
   "source": [
    "model = build_model(args).cuda()\n",
    "model.load_state_dict(torch.load(os.path.join(log_path, \"2nd-re_stu/best_val.pth\"))[\"model\"])\n",
    "model.eval()"
   ]
  },
  {
   "cell_type": "code",
   "execution_count": null,
   "id": "d2ef5f28-8d8f-4c1f-8497-49668afbed9d",
   "metadata": {},
   "outputs": [],
   "source": [
    "draw_vol(model, loader, \"paper_fig/quali/pengwin/stage2/{}\".format(volume_id))"
   ]
  },
  {
   "cell_type": "markdown",
   "id": "73ac199c-ae3c-427b-ba13-a573b8a41e6f",
   "metadata": {},
   "source": [
    "# ctpelvic1k"
   ]
  },
  {
   "cell_type": "code",
   "execution_count": null,
   "id": "6670e627-8a94-42d8-bd70-c8605a1a5f36",
   "metadata": {},
   "outputs": [],
   "source": [
    "volume_id = \"d1_0065\"\n",
    "data_root = \"~/sd10t/ctpelvic1k\"\n",
    "log_path = \"log/ctpelvic1k\""
   ]
  },
  {
   "cell_type": "code",
   "execution_count": null,
   "id": "bdc55b5f-a16d-459c-86f2-bc68c43cd620",
   "metadata": {},
   "outputs": [],
   "source": [
    "with open(os.path.join(log_path, \"config.json\"), 'r') as f:\n",
    "    args = argparse.Namespace(**json.load(f))"
   ]
  },
  {
   "cell_type": "code",
   "execution_count": null,
   "id": "93378557-140f-40a2-b1d7-a6e25502b7b6",
   "metadata": {},
   "outputs": [],
   "source": [
    "val_trans = val_trfm(args)"
   ]
  },
  {
   "cell_type": "code",
   "execution_count": null,
   "id": "18665381-8edf-46cf-820e-dcd603441053",
   "metadata": {},
   "outputs": [],
   "source": [
    "ds = ctpelvic1k.VolumeDataset(volume_id, \"full\", val_trans,\n",
    "    args.window, args.window_level, args.window_width, data_root)\n",
    "loader = torch.utils.data.DataLoader(ds, batch_size=32, shuffle=False)"
   ]
  },
  {
   "cell_type": "code",
   "execution_count": null,
   "id": "6bb7be2e-7e3b-4782-95aa-058fbeb4c986",
   "metadata": {},
   "outputs": [],
   "source": [
    "model = build_model(args).cuda()\n",
    "model.load_state_dict(torch.load(os.path.join(log_path, \"2nd-re_stu/best_val.pth\"))[\"model\"])\n",
    "model.eval()"
   ]
  },
  {
   "cell_type": "code",
   "execution_count": null,
   "id": "7fb4be46-46b4-49af-ab1e-794f725ac413",
   "metadata": {},
   "outputs": [],
   "source": [
    "draw_vol(model, loader, \"paper_fig/quali/ctpelvic1k/stage2/{}\".format(volume_id))"
   ]
  }
 ],
 "metadata": {
  "kernelspec": {
   "display_name": "Python 3 (ipykernel)",
   "language": "python",
   "name": "python3"
  },
  "language_info": {
   "codemirror_mode": {
    "name": "ipython",
    "version": 3
   },
   "file_extension": ".py",
   "mimetype": "text/x-python",
   "name": "python",
   "nbconvert_exporter": "python",
   "pygments_lexer": "ipython3",
   "version": "3.8.18"
  }
 },
 "nbformat": 4,
 "nbformat_minor": 5
}
